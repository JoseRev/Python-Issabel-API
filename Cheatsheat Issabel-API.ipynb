{
 "cells": [
  {
   "cell_type": "markdown",
   "metadata": {},
   "source": [
    "# <font color = 'Red'> Ejemplo de ISSABEL - API"
   ]
  },
  {
   "cell_type": "code",
   "execution_count": null,
   "metadata": {},
   "outputs": [],
   "source": [
    "import requests\n",
    "import json"
   ]
  },
  {
   "cell_type": "markdown",
   "metadata": {},
   "source": [
    "### <font color = 'Blue'> Autenticar"
   ]
  },
  {
   "cell_type": "code",
   "execution_count": null,
   "metadata": {},
   "outputs": [],
   "source": [
    "Conmutador='http://192.168.1.74/pbxapi'                                 # SIP2 LXC1002\n",
    "payload={'username':'admin', 'password':'c3c0mr3d35'}                   # SIP2 lXC1002\n",
    "\n",
    "r=requests.post(Conmutador+'/authenticate', verify=False, data=payload)   # No se modifica\n",
    "token1=json.loads(r.text)                                                 # No se modifica\n",
    "token1['access_token']                                                    # No se modifica\n"
   ]
  },
  {
   "cell_type": "markdown",
   "metadata": {},
   "source": [
    "### <font color = 'Blue'>Mostrar Troncales"
   ]
  },
  {
   "cell_type": "code",
   "execution_count": null,
   "metadata": {},
   "outputs": [],
   "source": [
    "r_trunk=requests.get(Conmutador+'/trunks', verify=False, headers= {\"Authorization\": \"Bearer \" + token1['access_token']})\n",
    "print(json.dumps(r_trunk.json(), indent=2))"
   ]
  },
  {
   "cell_type": "markdown",
   "metadata": {},
   "source": [
    "### <font color = 'Blue'>Mostrar Extensiones"
   ]
  },
  {
   "cell_type": "code",
   "execution_count": null,
   "metadata": {},
   "outputs": [],
   "source": [
    "r_ext=requests.get(Conmutador+'/extensions', verify=False, headers= {\"Authorization\": \"Bearer \" + token1['access_token']})\n",
    "print(json.dumps(r_ext.json(), indent=2))      "
   ]
  },
  {
   "cell_type": "markdown",
   "metadata": {},
   "source": [
    "### <font color = 'Blue'>Mostrar Rutas Salida"
   ]
  },
  {
   "cell_type": "code",
   "execution_count": null,
   "metadata": {},
   "outputs": [],
   "source": [
    "r_out=requests.get(Conmutador+'/outboundroutes', verify=False, headers= {\"Authorization\": \"Bearer \" + token1['access_token']})\n",
    "print(json.dumps(r_out.json(), indent=2))"
   ]
  },
  {
   "cell_type": "markdown",
   "metadata": {},
   "source": [
    "### <font color = 'Blue'> Mostrar Rutas de Entrada"
   ]
  },
  {
   "cell_type": "code",
   "execution_count": null,
   "metadata": {},
   "outputs": [],
   "source": [
    "r_in=requests.get(Conmutador+'/inboundroutes', verify=False, headers= {\"Authorization\": \"Bearer \" + token1['access_token']})\n",
    "print(json.dumps(r_in.json(), indent=2))"
   ]
  },
  {
   "cell_type": "markdown",
   "metadata": {},
   "source": [
    "### <font color = 'Blue'> Mostrar Grabaciones"
   ]
  },
  {
   "cell_type": "code",
   "execution_count": null,
   "metadata": {},
   "outputs": [],
   "source": [
    "r_rec=requests.get(Conmutador+'/recordings', verify=False, headers= {\"Authorization\": \"Bearer \" + token1['access_token']})\n",
    "print(json.dumps(r_rec.json(), indent=2))"
   ]
  },
  {
   "cell_type": "markdown",
   "metadata": {},
   "source": [
    "### <font color = 'Blue'> Agregar Extension"
   ]
  },
  {
   "cell_type": "code",
   "execution_count": null,
   "metadata": {},
   "outputs": [],
   "source": [
    "extension=\"\"\"\n",
    "{\n",
    "    \"name\": \"EMT - Aytia\",\n",
    "    \"secret\": \"1149tr\",\n",
    "    \"context\": \"from-internal\",\n",
    "    \"extension\": \"1149\",\n",
    "    \"tech\": \"sip\",\n",
    "    \"voicemail\": \"novm\",\n",
    "    \"dial\": \"SIP/1149\"   \n",
    "\n",
    "}\n",
    "\"\"\"\n",
    "r=requests.put(Conmutador+'/extensions/1149', verify=False, headers= {\"Authorization\": \"Bearer \" + token1['access_token']}, data=extension)\n",
    "r"
   ]
  },
  {
   "cell_type": "markdown",
   "metadata": {},
   "source": [
    "### <font color = 'Blue'> Agregar Troncal"
   ]
  },
  {
   "cell_type": "code",
   "execution_count": null,
   "metadata": {},
   "outputs": [],
   "source": [
    "troncal1={\n",
    "        \"id\": '4',\n",
    "        \"name\": \"Tapia22222\",\n",
    "        \"technology\": \"sip\",\n",
    "        \"channel_name\": \"Alcarazasasas\",\n",
    "        \"patterns\": [{\n",
    "            \"match_pattern_prefix\": \"\",\n",
    "            \"match_pattern_pass\": \"2X46\",\n",
    "            \"prepend_digits\": \"\",\n",
    "            \"seq\": \"1\"\n",
    "        }],\n",
    "        \"peer\": {\n",
    "            \"host\": \"192.168.1.138\",\n",
    "            \"username\": \"rusos\",\n",
    "            \"secret\": \"12345\",\n",
    "            \"type\": \"friend\"\n",
    "            \n",
    "        },\n",
    "        \"user\": [],\n",
    "        \"register\": \"\"\n",
    "}\n",
    "\n",
    "\n",
    "print(type(troncal1))\n",
    "print(type(json.dumps(troncal1)))     #json.dumps() returns string (json.object)\n",
    "                                      #json.loads() returns python dict\n",
    "r=requests.post(Conmutador+'/trunks/', verify=False, headers= {\"content-type\": \"application/json\", \"Authorization\": \"Bearer \" + token1['access_token']}, data=json.dumps(troncal1))\n",
    "r"
   ]
  },
  {
   "cell_type": "markdown",
   "metadata": {},
   "source": [
    "### <font color = 'Blue'> Agregar Ruta Salida"
   ]
  },
  {
   "cell_type": "code",
   "execution_count": null,
   "metadata": {},
   "outputs": [],
   "source": []
  },
  {
   "cell_type": "markdown",
   "metadata": {},
   "source": [
    "### <font color = 'Blue'> Borrar Extension </font> <font color = 'Red'> (Warning)"
   ]
  },
  {
   "cell_type": "code",
   "execution_count": null,
   "metadata": {},
   "outputs": [],
   "source": [
    "r=requests.delete(Conmutador+'/extensions/1149', verify=False, headers= {\"Authorization\": \"Bearer \" + token1['access_token']})\n",
    "r"
   ]
  },
  {
   "cell_type": "markdown",
   "metadata": {},
   "source": [
    "### <font color = 'Blue'> Borrar Grupo de Extensiones </font> <font color = 'Red'> (Warning)"
   ]
  },
  {
   "cell_type": "code",
   "execution_count": null,
   "metadata": {
    "scrolled": true
   },
   "outputs": [],
   "source": [
    "total=len(r_ext.json()['results'])\n",
    "for num, extension in enumerate( r_ext.json()['results']):\n",
    "    r_ext=requests.delete(Conmutador+'/extensions/'+ extension['extension'], verify=False, headers= {\"Authorization\": \"Bearer \" + token1['access_token']})\n",
    "    print (f\"{num+1} de {total}\", extension['extension'], str(r_ext) +\" \"+ str(r_ext.reason))    # Se repite la instrucion r_ext???\n",
    "    #if num == 5:\n",
    "    #    break"
   ]
  },
  {
   "cell_type": "markdown",
   "metadata": {},
   "source": [
    "### <font color = 'Blue'> Borrar Troncal </font> <font color = 'Red'> (Warning)"
   ]
  },
  {
   "cell_type": "code",
   "execution_count": null,
   "metadata": {},
   "outputs": [],
   "source": [
    "r=requests.delete(Conmutador+'/trunks/3', verify=False, headers= {\"Authorization\": \"Bearer \" + token1['access_token']})\n",
    "r.json"
   ]
  },
  {
   "cell_type": "markdown",
   "metadata": {},
   "source": [
    "### <font color = 'Blue'> Borrar Grupo de Troncales </font> <font color = 'Red'> (Warning)"
   ]
  },
  {
   "cell_type": "code",
   "execution_count": null,
   "metadata": {
    "scrolled": true
   },
   "outputs": [],
   "source": [
    "total=len(r_trunk.json()['results'])\n",
    "for index,trunk in enumerate(r_trunk.json()['results']):\n",
    "    r_trunk_del=requests.delete(Conmutador+'/trunks/'+ trunk['id'], verify=False, headers= {\"Authorization\": \"Bearer \" + token1['access_token']})\n",
    "    print (f\"{index+1} de {total}\", f\"{r_trunk_del} {r_trunk_del.reason}\")"
   ]
  },
  {
   "cell_type": "code",
   "execution_count": null,
   "metadata": {},
   "outputs": [],
   "source": []
  },
  {
   "cell_type": "markdown",
   "metadata": {},
   "source": [
    "### <font color = 'Blue'> Borrar Ruta Salida </font> <font color = 'Red'> (Warning)"
   ]
  },
  {
   "cell_type": "code",
   "execution_count": null,
   "metadata": {},
   "outputs": [],
   "source": [
    "r_out_del=requests.delete(Conmutador+'/outboundroutes/'+ ruta['id'], verify=False, headers= {\"Authorization\": \"Bearer \" + token2['access_token']})\n",
    "r_out_del.json()"
   ]
  },
  {
   "cell_type": "markdown",
   "metadata": {},
   "source": [
    "### <font color = 'Blue'> Borrar Grupo de Rutas Salida </font> <font color = 'Red'> (Warning)"
   ]
  },
  {
   "cell_type": "code",
   "execution_count": null,
   "metadata": {
    "scrolled": true
   },
   "outputs": [],
   "source": [
    "total=len(r_out.json()['results'])\n",
    "for index,ruta in enumerate(r_out.json()['results']):\n",
    "    r_out_del=requests.delete(Conmutador+'/outboundroutes/'+ ruta['id'], verify=False, headers= {\"Authorization\": \"Bearer \" + token1['access_token']})\n",
    "    print (f\"{index+1} de {total}\", f\"{r_out_del} {r_out_del.reason}\")"
   ]
  },
  {
   "cell_type": "code",
   "execution_count": null,
   "metadata": {},
   "outputs": [],
   "source": []
  },
  {
   "cell_type": "code",
   "execution_count": null,
   "metadata": {},
   "outputs": [],
   "source": []
  },
  {
   "cell_type": "code",
   "execution_count": null,
   "metadata": {},
   "outputs": [],
   "source": []
  }
 ],
 "metadata": {
  "kernelspec": {
   "display_name": "Python 3",
   "language": "python",
   "name": "python3"
  },
  "language_info": {
   "codemirror_mode": {
    "name": "ipython",
    "version": 3
   },
   "file_extension": ".py",
   "mimetype": "text/x-python",
   "name": "python",
   "nbconvert_exporter": "python",
   "pygments_lexer": "ipython3",
   "version": "3.8.3"
  }
 },
 "nbformat": 4,
 "nbformat_minor": 4
}
