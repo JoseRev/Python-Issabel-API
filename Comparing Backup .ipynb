{
 "cells": [
  {
   "cell_type": "markdown",
   "metadata": {},
   "source": [
    "## <font color = 'Red'> Comparar Informacion Punto2 y Burro1"
   ]
  },
  {
   "cell_type": "code",
   "execution_count": 13,
   "metadata": {},
   "outputs": [],
   "source": [
    "import json"
   ]
  },
  {
   "cell_type": "markdown",
   "metadata": {},
   "source": [
    "### <font color = 'Blue'> Extensiones"
   ]
  },
  {
   "cell_type": "markdown",
   "metadata": {},
   "source": [
    "#### Punto2"
   ]
  },
  {
   "cell_type": "code",
   "execution_count": 63,
   "metadata": {
    "collapsed": true
   },
   "outputs": [
    {
     "name": "stdout",
     "output_type": "stream",
     "text": [
      "{'', '8967', '6751', '6865', '6821', '6806', '6759', '6882', '6810', '6866', '1319', '8929', '6861', '1409', '6824', '8949', '1423', '1340', '1306', '6886', '1285', '1280', '1295', '1389', '2647', '1422', '1413', '6858', '6830', '1437', '8932', '6872', '1342', '1354', '1335', '8911', '1144', '1281', '1372', '1331', '6842', '1289', '8954', '1452', '1433', '1402', '8934', '1337', '1300', '1388', '1450', '6887', '8946', '6788', '8922', '1391', '1455', '6849', '1408', '1381', '6879', '8938', '6827', '6823', '1390', '1446', '6894', '6767', '1380', '1435', '8914', '1443', '8919', '6841', '6815', '1472', '1287', '1407', '1328', '6856', '1352', '6819', '1000', '1442', '8961', '6845', '6809', '1429', '1320', '8947', '1298', '1424', '1311', '1373', '6811', '6892', '1329', '1406', '1403', '1415', '8935', '1370', '1421', '6832', '8909', '6760', '1404', '1299', '6813', '1396', '6783', '1430', '8915', '6862', '8940', '6822', '1333', '1427', '6746', '6877', '6885', '2648', '6870', '6838', '6816', '1323', '6848', '1309', '8943', '1341', '1350', '8920', '6871', '6851', '1321', '1459', '1394', '1379', '1385', '1317', '1327', '1343', '8952', '1378', '1374', '1348', '1376', '6874', '2643', '1449', '8933', '6820', '1377', '1419', '1334', '6876', '6898', '8941', '6817', '6896', '6804', '1439', '1332', '1383', '8944', '1416', '1425', '1456', '1436', '1417', '8963', '1445', '1428', '6889', '6840', '6846', '6860', '6818', '6895', '6890', '1375', '6875', '1432', '1322', '1326', '1302', '1355', '6920', '6757', '6883', '1382', '6826', '6847', '1296', '1397', '1304', '1400', '8942', '6763', '6859', '1426', '6750', '1282', '6829', '8917', '6807', '6805', '1410', '6776', '1420', '6808', '1297', '6831', '6850', '8969', '1395', '6897', '1405', '6857', '6620', '6747', '1438', '1444', '1305', '1451', '1458', '1283', '1330', '1392', '6814', '6843', '1386', '6881', '1453', '1001', '1218', '8913', '8955', '6833', '6891', '1387', '1308', '1318', '8948', '6777', '6758', '1351', '6784', '7017', '6812', '1371', '6853', '7016', '1454', '6893', '6863', '1324', '2649', '6855', '6844', '1434', '1418', '8960', '1414', '6761', '1213', '6755', '1457', '6888', '6880', '8928', '6781', '1284', '1307', '1336', '6884', '1288', '8910', '6899', '6773', '6854', '6878', '1286', '6864', '1143', '6868', '1398', '6867', '1441', '7015', '1349', '1384', '6622', '1301', '6749', '6839', '1440', '1393', '1310', '8962', '6825', '1399', '8945', '1401', '1303', '1353', '6828', '1447', '6873', '6802', '1448', '6753', '1325'}\n"
     ]
    }
   ],
   "source": [
    "f = open(\"SIP2 extensiones\", \"r\")\n",
    "sip2_extensions_full=json.loads(f.read())['results']\n",
    "sip2_ext={\"\"}\n",
    "for extension in sip2_extensions_full:\n",
    "    sip2_ext.add(extension['extension'])\n",
    "print(sip2_ext)  "
   ]
  },
  {
   "cell_type": "markdown",
   "metadata": {},
   "source": [
    "#### Burro"
   ]
  },
  {
   "cell_type": "code",
   "execution_count": 64,
   "metadata": {
    "collapsed": true
   },
   "outputs": [
    {
     "name": "stdout",
     "output_type": "stream",
     "text": [
      "{'', '8967', '6751', '6865', '6821', '6806', '6759', '6882', '6810', '6866', '1319', '8929', '6861', '1409', '6824', '8949', '1423', '1340', '1306', '6886', '1285', '1280', '1295', '1389', '2647', '1422', '1413', '6858', '6830', '1437', '8932', '6872', '1342', '1335', '8911', '1144', '1281', '1372', '1331', '6842', '1289', '8954', '1452', '1433', '1402', '8934', '1337', '1300', '1388', '1450', '6887', '8946', '1431', '6788', '8922', '1391', '1455', '6849', '1408', '1381', '6879', '8938', '6827', '6823', '1390', '1446', '6894', '6767', '1380', '1435', '8914', '1443', '8919', '6841', '6815', '1472', '1287', '1407', '1328', '6856', '6819', '1000', '1442', '8961', '6845', '6809', '1429', '1320', '8947', '1298', '1424', '1311', '1373', '6811', '6892', '1329', '1406', '1403', '1415', '8935', '1370', '1421', '6832', '8909', '6760', '1404', '1299', '6813', '1396', '6783', '1430', '8915', '6862', '8940', '6822', '1333', '1427', '6746', '6877', '6885', '2648', '6870', '6838', '6816', '1323', '6848', '1309', '8943', '1341', '1350', '8920', '6871', '6851', '1321', '1459', '1394', '1379', '1385', '1317', '1327', '1343', '8952', '1378', '1374', '1348', '1376', '1411', '6874', '2643', '1449', '8933', '6820', '1377', '1419', '1334', '6876', '6898', '8941', '6817', '6896', '6804', '1439', '1332', '1383', '8944', '1416', '1425', '1456', '1436', '1417', '8963', '1445', '1428', '6889', '6840', '6846', '6860', '6818', '6895', '6890', '1375', '6875', '1432', '1322', '1326', '1302', '6920', '6757', '6883', '1382', '6826', '6847', '1296', '1397', '1304', '1400', '8942', '6763', '6859', '1426', '6750', '1282', '6829', '8917', '6807', '6805', '1410', '6776', '1420', '6808', '1297', '6831', '6850', '8969', '1395', '6897', '1405', '6857', '6620', '1412', '6747', '1438', '1444', '1305', '1451', '1458', '1283', '1330', '1392', '6814', '6843', '1386', '6881', '1453', '1001', '1218', '8913', '8955', '6833', '6891', '1387', '1308', '1318', '8948', '6777', '6758', '1351', '6784', '7017', '6812', '1371', '6853', '7016', '1454', '6893', '6863', '1324', '2649', '6855', '6844', '1434', '1418', '8960', '1414', '6761', '1213', '6755', '1457', '6888', '6880', '8928', '6781', '1284', '1307', '1336', '6884', '1288', '8910', '6899', '6773', '6854', '6878', '1286', '6864', '1143', '6868', '1398', '6867', '1441', '7015', '1349', '1384', '6622', '1301', '6749', '6839', '1440', '1393', '1310', '8962', '6825', '1399', '8945', '1401', '1303', '6828', '1447', '6873', '6802', '1448', '6753', '1325'}\n"
     ]
    }
   ],
   "source": [
    "f = open(\"BURRO extensiones\", \"r\")\n",
    "burro_extensions_full=json.loads(f.read())['results']\n",
    "burro_ext={\"\"}\n",
    "for extension in burro_extensions_full:\n",
    "    burro_ext.add(extension['extension'])\n",
    "print(burro_ext)  "
   ]
  },
  {
   "cell_type": "markdown",
   "metadata": {},
   "source": [
    "### <font color = 'Blue'> Rutas"
   ]
  },
  {
   "cell_type": "markdown",
   "metadata": {},
   "source": [
    "#### Punto2"
   ]
  },
  {
   "cell_type": "code",
   "execution_count": 72,
   "metadata": {},
   "outputs": [
    {
     "name": "stdout",
     "output_type": "stream",
     "text": [
      "{'', '2a_BPM', 'PSTN', 'HMEMN', 'HMR_XIIRM', 'CJR_IXRM', 'CJR_I_RM', 'BLT_CIA_MANTO', 'HOSP_CTRL_CISCO', 'CJE_I_RM_2_BPM', '46_ZM', 'CJ_MORELIA', 'CJR_VIII_RM', 'GM_PIEDRASN', 'EMAAYS', 'HMR_IV_RM', 'CJE_XII_RM_MPLS', '79_BI_TECALITLAN', 'HOSP_34ZM', '82BI_Y_GM_LAZAR_C', 'JFA_SVS_IV_RM', '6_BgdaPM', 'CJR_4a_ZM', 'CJR_V_RM_11_ZM', 'CENDI_8_APODACA', 'MEXSAT_DIAL_PLAN', 'CJR_5ZM', 'EMTEFA', 'UMCE_40ZM', 'CENDI_3', 'CJ_IXTEPEC', 'HMR_TORREON', 'HOSP_CTRL_MIL', 'BAM_11_EMATFA', 'GN_TORRE_PEDREGAL', 'CPO_FZAS_ESP', 'HMR_VII_RM', 'CJR_8ZM', 'CJR_3a_ZM', 'CJM_IX_RM_CHILPA', 'CJR_10ZM', 'CJE_XIRM', 'HOSP_24_ZM', 'A_CIATRANS', 'CG_43ZM', 'JEFATURAS_VIII_RM', 'CENDI_6', '12RCM_PIED_NEG', 'CMG_STA_GERT', 'CJR_VIRM_6RBR', 'CG_27ZM', '7_ZM', '4_BGDA_PM', 'RASE', 'UETA', '4oELN_MNTO_IRM', '7_BIC', 'RTM_CISCO', 'HOSP_25ZM', 'CJR_42ZM', 'DN14', 'SIP3', 'UMCE_TAPACHULA', 'HMZ_1A', 'A_ESC_MIL_SGTOS', 'CJE_VRM_SEII', '108BI', 'CJE_VI_RM_MPLS', 'A_HMR_MAZATLAN', '5BIC', 'HMZ_CHEM', 'ESC_SUP_GRRA', 'HMR_VIRM_TUXPAN', 'JFRAS_III_RM', 'CJ_VRM_13ZM', 'cj_33_ZONA_M', '70BI_XICOTEPEC', 'TRONCALIZADO', 'CRI', 'GAIN', '44_Z_M', 'HOSP_35_ZM', 'UMCE_8ZM', 'CIAM', '3a_CINE', 'CJR_GN_JUAREZ', 'A_CJR_19ZM', 'CJR_VICTORIA', 'CJR_XRM', 'HMZ_SMJ', 'JEFATURAS_XIIRM', 'CJ_CULIACAN', 'CME_JUZG_IIRM', 'SIP_5', 'BAM_18', 'CMI', 'UMCE_PINOTEPA', 'HMR_X_RM', 'CENDI_4', 'CALL_ME_VILLAH', '101_BI'}\n"
     ]
    }
   ],
   "source": [
    "f = open(\"SIP2 rutas\", \"r\")\n",
    "sip2_rutas_full=json.loads(f.read())['results']\n",
    "sip2_rutas={\"\"}\n",
    "for ruta in sip2_rutas_full:\n",
    "    sip2_rutas.add(ruta['name'])\n",
    "print(sip2_rutas)  "
   ]
  },
  {
   "cell_type": "markdown",
   "metadata": {},
   "source": [
    "#### Burro"
   ]
  },
  {
   "cell_type": "code",
   "execution_count": 73,
   "metadata": {},
   "outputs": [
    {
     "name": "stdout",
     "output_type": "stream",
     "text": [
      "{'', '2a_BPM', 'PSTN', 'HMEMN', 'HMR_XIIRM', 'CJR_IXRM', 'CJR_I_RM', 'BLT_CIA_MANTO', 'HOSP_CTRL_CISCO', 'CJE_I_RM_2_BPM', '46_ZM', 'CJ_MORELIA', 'CJR_VIII_RM', 'GM_PIEDRASN', 'EMAAYS', 'HMR_IV_RM', 'CJE_XII_RM_MPLS', '79_BI_TECALITLAN', 'HOSP_34ZM', '82BI_Y_GM_LAZAR_C', 'JFA_SVS_IV_RM', '6_BgdaPM', 'CJR_4a_ZM', 'CJR_V_RM_11_ZM', 'CENDI_8_APODACA', 'MEXSAT_DIAL_PLAN', 'CJR_5ZM', 'EMTEFA', 'UMCE_40ZM', 'CENDI_3', 'CJ_IXTEPEC', 'HMR_TORREON', 'HOSP_CTRL_MIL', 'BAM_11_EMATFA', 'GN_TORRE_PEDREGAL', 'CPO_FZAS_ESP', 'HMR_VII_RM', 'CJR_8ZM', 'CJR_3a_ZM', 'CJM_IX_RM_CHILPA', 'CJR_10ZM', 'CJE_XIRM', 'HOSP_24_ZM', 'A_CIATRANS', 'CG_43ZM', 'JEFATURAS_VIII_RM', 'CENDI_6', '12RCM_PIED_NEG', 'CMG_STA_GERT', 'CJR_VIRM_6RBR', 'CG_27ZM', '7_ZM', '4_BGDA_PM', 'RASE', 'UETA', '4oELN_MNTO_IRM', '7_BIC', 'RTM_CISCO', 'HOSP_25ZM', 'CJR_42ZM', 'DN14', 'SIP3', 'UMCE_TAPACHULA', 'HMZ_1A', 'A_ESC_MIL_SGTOS', 'CJE_VRM_SEII', '108BI', 'CJE_VI_RM_MPLS', 'A_HMR_MAZATLAN', '5BIC', 'ESC_SUP_GRRA', 'HMR_VIRM_TUXPAN', 'JFRAS_III_RM', 'CJ_VRM_13ZM', 'cj_33_ZONA_M', '70BI_XICOTEPEC', 'TRONCALIZADO', 'CRI', 'GAIN', '44_Z_M', 'HOSP_35_ZM', 'UMCE_8ZM', 'CIAM', '3a_CINE', 'CJR_GN_JUAREZ', 'A_CJR_19ZM', 'CJR_VICTORIA', 'CJR_XRM', 'HMZ_SMJ', 'JEFATURAS_XIIRM', 'CJ_CULIACAN', 'CME_JUZG_IIRM', 'SIP_5', 'BAM_18', 'CMI', 'UMCE_PINOTEPA', 'HMR_X_RM', 'CENDI_4', 'CALL_ME_VILLAH', '101_BI'}\n"
     ]
    }
   ],
   "source": [
    "f = open(\"BURRO rutas\", \"r\")\n",
    "burro_rutas_full=json.loads(f.read())['results']\n",
    "#print(burro_extensions_full)\n",
    "burro_rutas={\"\"}\n",
    "for ruta in burro_rutas_full:\n",
    "    burro_rutas.add(ruta['name'])\n",
    "print(burro_rutas)  "
   ]
  },
  {
   "cell_type": "markdown",
   "metadata": {},
   "source": [
    "#### SIP2 vs Burro"
   ]
  },
  {
   "cell_type": "code",
   "execution_count": 65,
   "metadata": {},
   "outputs": [
    {
     "data": {
      "text/plain": [
       "{'1352', '1353', '1354', '1355'}"
      ]
     },
     "execution_count": 65,
     "metadata": {},
     "output_type": "execute_result"
    }
   ],
   "source": [
    " sip2_ext-burro_ext"
   ]
  },
  {
   "cell_type": "code",
   "execution_count": 74,
   "metadata": {},
   "outputs": [
    {
     "data": {
      "text/plain": [
       "{'HMZ_CHEM'}"
      ]
     },
     "execution_count": 74,
     "metadata": {},
     "output_type": "execute_result"
    }
   ],
   "source": [
    " sip2_rutas-burro_rutas"
   ]
  }
 ],
 "metadata": {
  "kernelspec": {
   "display_name": "Python 3",
   "language": "python",
   "name": "python3"
  },
  "language_info": {
   "codemirror_mode": {
    "name": "ipython",
    "version": 3
   },
   "file_extension": ".py",
   "mimetype": "text/x-python",
   "name": "python",
   "nbconvert_exporter": "python",
   "pygments_lexer": "ipython3",
   "version": "3.7.7"
  }
 },
 "nbformat": 4,
 "nbformat_minor": 4
}
